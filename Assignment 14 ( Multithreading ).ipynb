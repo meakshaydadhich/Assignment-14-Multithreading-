{
 "cells": [
  {
   "cell_type": "code",
   "execution_count": 7,
   "id": "45ea9d46",
   "metadata": {},
   "outputs": [
    {
     "name": "stdout",
     "output_type": "stream",
     "text": [
      "Task started\n",
      "Task finished\n",
      "Main program continues\n"
     ]
    }
   ],
   "source": [
    "# Q-1 What is multithreading in python ? Why is it used ? Name the module used to handle threads in python.\n",
    "\n",
    "# Ans.\n",
    "# What is Multithreading in Python?\n",
    "# Multithreading in Python refers to the ability of a program to run multiple threads (smaller units of a process) concurrently.\n",
    "# Each thread runs a sequence of instructions that can be executed independently of the main program, allowing multiple tasks to\n",
    "# be processed simultaneously.\n",
    "\n",
    "# Why is it Used?\n",
    "# - Concurrency: Multithreading allows Python programs to perform multiple tasks concurrently, which is useful for tasks like\n",
    "# downloading files, processing data, or running different algorithms at the same time.\n",
    "\n",
    "# - I/O-bound Tasks: Multithreading is most effective for I/O-bound tasks (e.g., reading/writing files, web scraping, network\n",
    "# communication) where threads spend a lot of time waiting for I/O operations to complete.\n",
    "\n",
    "# - Improved Performance: While Python's Global Interpreter Lock (GIL) limits true parallel execution of threads in CPU-bound \n",
    "# tasks, multithreading is still beneficial for tasks that can overlap in execution, especially when waiting for external \n",
    "# resources.\n",
    "\n",
    "# Module Used to Handle Threads in Python\n",
    "# The module used to handle threads in Python is the threading module. It provides a higher-level interface for managing \n",
    "# threads and is built on top of the lower-level _thread module (formerly known as thread).\n",
    "\n",
    "# Here’s an example of basic multithreading using the threading module:\n",
    "import threading\n",
    "import time\n",
    "\n",
    "def task():\n",
    "    print(\"Task started\")\n",
    "    time.sleep(2)  # Simulate a time-consuming task\n",
    "    print(\"Task finished\")\n",
    "\n",
    "# Create a thread to run the task\n",
    "thread = threading.Thread(target=task)\n",
    "\n",
    "# Start the thread\n",
    "thread.start()\n",
    "\n",
    "# Wait for the thread to finish\n",
    "thread.join()\n",
    "\n",
    "# This will not execute until the thread completes\n",
    "print(\"Main program continues\")\n"
   ]
  },
  {
   "cell_type": "code",
   "execution_count": 13,
   "id": "075503ba",
   "metadata": {},
   "outputs": [
    {
     "name": "stdout",
     "output_type": "stream",
     "text": [
      "Active threads: 8\n"
     ]
    }
   ],
   "source": [
    "# Q-2 Why Threading module used ? Write the use of the following functions:\n",
    "# 1. activeCount()\n",
    "# 2. currentThread()\n",
    "# 3. enumerate()\n",
    "\n",
    "# Ans. \n",
    "# The threading module is used in Python for managing and working with threads, allowing for concurrent execution of code, \n",
    "# particularly in scenarios where tasks can be performed concurrently (such as I/O-bound operations like file handling, network\n",
    "# communication, or UI responsiveness). This module provides tools to create, start, and manage threads.\n",
    "\n",
    "# Functions in threading Module\n",
    "# Here are the uses of the specified functions in the threading module:\n",
    "\n",
    "# 1. activeCount()\n",
    "# Use: This function returns the number of thread objects that are currently alive and active, including the main thread. It \n",
    "# helps you monitor how many threads are currently running.\n",
    "# Syntax: threading.activeCount()\n",
    "\n",
    "# Example:-\n",
    "import threading\n",
    "import time\n",
    "\n",
    "def task():\n",
    "    time.sleep(1)\n",
    "\n",
    "# Create and start a few threads\n",
    "thread1 = threading.Thread(target=task)\n",
    "thread2 = threading.Thread(target=task)\n",
    "thread1.start()\n",
    "thread2.start()\n",
    "\n",
    "# Get the number of active threads\n",
    "print(f\"Active threads: {threading.active_count()}\")\n"
   ]
  },
  {
   "cell_type": "code",
   "execution_count": 22,
   "id": "03bb26a2",
   "metadata": {},
   "outputs": [
    {
     "name": "stdout",
     "output_type": "stream",
     "text": [
      "Main thread: MainThread\n"
     ]
    },
    {
     "name": "stderr",
     "output_type": "stream",
     "text": [
      "C:\\Users\\lenovo\\AppData\\Local\\Temp\\ipykernel_2300\\1361457653.py:10: DeprecationWarning: getName() is deprecated, get the name attribute instead\n",
      "  print(f\"Current thread: {threading.current_thread().getName()}\")\n",
      "C:\\Users\\lenovo\\AppData\\Local\\Temp\\ipykernel_2300\\1361457653.py:17: DeprecationWarning: getName() is deprecated, get the name attribute instead\n",
      "  print(f\"Main thread: {threading.current_thread().getName()}\")\n"
     ]
    },
    {
     "name": "stdout",
     "output_type": "stream",
     "text": [
      "Current thread: Thread-36 (task)\n"
     ]
    }
   ],
   "source": [
    "# 2. currentThread()\n",
    "# Use: This function returns the Thread object corresponding to the current thread that is being executed. It can be used to get\n",
    "# information about the thread that is currently running.\n",
    "# Syntax: threading.currentThread()\n",
    "\n",
    "# Example:-\n",
    "import threading\n",
    "\n",
    "def task():\n",
    "    print(f\"Current thread: {threading.current_thread().getName()}\")\n",
    "\n",
    "# Create and start a thread\n",
    "thread = threading.Thread(target=task)\n",
    "thread.start()\n",
    "\n",
    "# Print the main thread\n",
    "print(f\"Main thread: {threading.current_thread().getName()}\")\n",
    "\n"
   ]
  },
  {
   "cell_type": "code",
   "execution_count": 23,
   "id": "9dd94712",
   "metadata": {},
   "outputs": [
    {
     "name": "stdout",
     "output_type": "stream",
     "text": [
      "Active threads: [<_MainThread(MainThread, started 16200)>, <Thread(IOPub, started daemon 9552)>, <Heartbeat(Heartbeat, started daemon 1820)>, <ControlThread(Control, started daemon 15520)>, <HistorySavingThread(IPythonHistorySavingThread, started 16940)>, <ParentPollerWindows(Thread-4, started daemon 15576)>, <Thread(Thread-37 (task), started 9724)>, <Thread(Thread-38 (task), started 14204)>]\n"
     ]
    }
   ],
   "source": [
    "# 3. enumerate()\n",
    "# Use: This function returns a list of all Thread objects currently alive. It includes both daemon and non-daemon threads, but\n",
    "# does not include threads that have finished execution. It is useful for getting detailed information about all the active \n",
    "# threads.\n",
    "# Syntax: threading.enumerate()\n",
    "\n",
    "#Example:-\n",
    "import threading\n",
    "import time\n",
    "\n",
    "def task():\n",
    "    time.sleep(1)\n",
    "\n",
    "# Create and start multiple threads\n",
    "thread1 = threading.Thread(target=task)\n",
    "thread2 = threading.Thread(target=task)\n",
    "thread1.start()\n",
    "thread2.start()\n",
    "\n",
    "# Get and print the list of all active threads\n",
    "threads = threading.enumerate()\n",
    "print(\"Active threads:\", threads)\n"
   ]
  },
  {
   "cell_type": "code",
   "execution_count": 24,
   "id": "2d714c5c",
   "metadata": {},
   "outputs": [
    {
     "name": "stdout",
     "output_type": "stream",
     "text": [
      "Task is running in thread\n"
     ]
    }
   ],
   "source": [
    "# Q-3 Explain the following functions:\n",
    "# 1. run()\n",
    "# 2. start()\n",
    "# 3. join()\n",
    "# 4. isAlive()\n",
    "\n",
    "# Ans.\n",
    "# 1. run()\n",
    "# Description: The run() method is the entry point for a thread. When you create a thread using threading.Thread, the run()\n",
    "# method is the code that will be executed in the new thread.\n",
    "# Usage: You usually don’t call run() directly. Instead, you should call start(), which internally calls run(). However, if you\n",
    "# call run() directly, it will execute in the main thread instead of creating a new thread.\n",
    "\n",
    "import threading\n",
    "\n",
    "def task():\n",
    "    print(\"Task is running in thread\")\n",
    "\n",
    "# Create a thread object\n",
    "thread = threading.Thread(target=task)\n",
    "\n",
    "# Directly call run (runs in main thread)\n",
    "thread.run()  # Output: Task is running in thread (runs in main thread)\n"
   ]
  },
  {
   "cell_type": "code",
   "execution_count": 25,
   "id": "94f45d46",
   "metadata": {},
   "outputs": [
    {
     "name": "stdout",
     "output_type": "stream",
     "text": [
      "Task is running in a new thread\n"
     ]
    }
   ],
   "source": [
    "# 2. start()\n",
    "# Description: The start() method begins a thread’s activity. It schedules the thread for execution, allowing Python to run the \n",
    "# run() method in a separate thread of execution.\n",
    "# Usage: Always use start() to begin a thread’s execution, as it ensures that a new thread is created and that the run() method \n",
    "# will execute in that thread, not in the main thread.\n",
    "\n",
    "import threading\n",
    "\n",
    "def task():\n",
    "    print(\"Task is running in a new thread\")\n",
    "\n",
    "# Create a thread object\n",
    "thread = threading.Thread(target=task)\n",
    "\n",
    "# Start the thread (runs in a new thread)\n",
    "thread.start()\n"
   ]
  },
  {
   "cell_type": "code",
   "execution_count": 36,
   "id": "95e2d69a",
   "metadata": {},
   "outputs": [
    {
     "name": "stdout",
     "output_type": "stream",
     "text": [
      "Task completed\n",
      "Main thread continues after join\n"
     ]
    }
   ],
   "source": [
    "# 3. join()\n",
    "# Description: The join() method is used to make the main thread wait for the completion of another thread. It blocks the \n",
    "# calling thread (main thread) until the thread on which join() is called finishes its execution.\n",
    "# Usage: You use join() to ensure that the main program (or any calling thread) does not proceed until the other thread has\n",
    "# completed its task.\n",
    "\n",
    "import threading\n",
    "import time\n",
    "\n",
    "def task():\n",
    "    print(\"Task completed\")\n",
    "    time.sleep(2)\n",
    "   \n",
    "\n",
    "# Create a thread\n",
    "thread = threading.Thread(target=task)\n",
    "\n",
    "# Start the thread\n",
    "thread.start()\n",
    "\n",
    "# Wait for the thread to finish\n",
    "thread.join()  # Main thread waits for the task to complete\n",
    "print(\"Main thread continues after join\")\n"
   ]
  },
  {
   "cell_type": "code",
   "execution_count": 41,
   "id": "ab87a084",
   "metadata": {},
   "outputs": [
    {
     "name": "stdout",
     "output_type": "stream",
     "text": [
      "Thread is still running\n"
     ]
    }
   ],
   "source": [
    "# 4. isAlive() (or is_alive() in Python 3.4+)\n",
    "# Description: The isAlive() (or is_alive() in Python 3.4+) method checks if a thread is still running. It returns True if the\n",
    "# thread is alive (i.e., it has been started and has not yet finished its execution), and False otherwise.\n",
    "# Usage: It is used to check whether a thread is still running before proceeding with other operations.\n",
    "\n",
    "import threading\n",
    "import time\n",
    "\n",
    "def task():\n",
    "    time.sleep(1)\n",
    "    \n",
    "\n",
    "# Create and start a thread\n",
    "thread = threading.Thread(target=task)\n",
    "thread.start()\n",
    "\n",
    "# Check if the thread is still alive\n",
    "if thread.is_alive():\n",
    "    print(\"Thread is still running\")\n",
    "else:\n",
    "    print(\"Thread has finished\")\n",
    "\n",
    "# Wait for the thread to finish\n",
    "thread.join()\n"
   ]
  },
  {
   "cell_type": "code",
   "execution_count": 73,
   "id": "9939a718",
   "metadata": {},
   "outputs": [
    {
     "name": "stdout",
     "output_type": "stream",
     "text": [
      "[1, 4, 9, 16, 25]\n",
      "[1, 8, 27, 64, 125]\n"
     ]
    }
   ],
   "source": [
    "# Q-4 Write a program to create two threads. Thread one must print the list of squares and thread two must print the list of\n",
    "#     cubes.\n",
    "\n",
    "# Ans.\n",
    "\n",
    "import threading\n",
    "\n",
    "def printing_listOfSq():\n",
    "    sq = [1,2,3,4,5]\n",
    "    sq1 = []\n",
    "    for i in sq:\n",
    "        sq1.append(i**2)\n",
    "    print(sq1)\n",
    "\n",
    "def printing_listOfCube():\n",
    "    cube = [1,2,3,4,5]\n",
    "    cube1 = []\n",
    "    for i in cube:\n",
    "        cube1.append(i**3)\n",
    "    print(cube1)\n",
    "\n",
    "thread1 = [threading.Thread(target = printing_listOfSq)]\n",
    "thread2 = [threading.Thread(target = printing_listOfCube)]\n",
    "\n",
    "for t in thread1:\n",
    "    t.start()\n",
    "    \n",
    "for t1 in thread2:\n",
    "    t1.start()\n"
   ]
  },
  {
   "cell_type": "code",
   "execution_count": 74,
   "id": "8830ac2f",
   "metadata": {},
   "outputs": [],
   "source": [
    "# Q.5 State advantages and disadvantages of multithreading.\n",
    "\n",
    "# Ans.\n",
    "# Advantages of Multithreading:\n",
    "\n",
    "# Concurrency:\n",
    "# Multithreading allows multiple threads to run concurrently. This improves the performance of programs, especially in I/O-bound\n",
    "# tasks (e.g., reading/writing files, network operations) where one thread can perform a task while another waits.\n",
    "\n",
    "# Improved Responsiveness:\n",
    "# Multithreading can make programs more responsive, especially in interactive applications. For example, a graphical user \n",
    "# interface (GUI) remains responsive to user input even if a background task is running in a separate thread.\n",
    "\n",
    "# Resource Sharing:\n",
    "# Threads within the same process share memory and resources. This allows threads to communicate with each other efficiently\n",
    "# and to share data without the need for complex inter-process communication (IPC).\n",
    "\n",
    "# Disadvantages of Multithreading:\n",
    "\n",
    "# Complexity:\n",
    "# Multithreaded programming introduces complexity in terms of debugging, testing, and program design. Issues such as race \n",
    "# conditions, deadlocks, and thread synchronization bugs are difficult to detect and fix.\n",
    "\n",
    "# Race Conditions:\n",
    "# A race condition occurs when two or more threads attempt to modify shared data at the same time, leading to unpredictable or\n",
    "# incorrect behavior. Managing shared resources requires careful synchronization (e.g., using locks), which can be error-prone.\n",
    "\n",
    "# Deadlocks:\n",
    "# Deadlocks can occur when two or more threads wait indefinitely for resources locked by each other. Deadlocks are difficult to\n",
    "# detect and resolve, and they can bring the entire program to a halt."
   ]
  },
  {
   "cell_type": "code",
   "execution_count": null,
   "id": "57f279c2",
   "metadata": {},
   "outputs": [],
   "source": [
    "# Q.6 Explain deadlocks and race conditions.\n",
    "\n",
    "# Ans.\n",
    "# Race Conditions:\n",
    "\n",
    "# A race condition occurs when two or more threads attempt to modify shared data at the same time, leading to unpredictable or\n",
    "# incorrect behavior. Managing shared resources requires careful synchronization (e.g., using locks), which can be error-prone.\n",
    "\n",
    "# Deadlocks:\n",
    "# Deadlocks can occur when two or more threads wait indefinitely for resources locked by each other. Deadlocks are difficult to\n",
    "# detect and resolve, and they can bring the entire program to a halt."
   ]
  }
 ],
 "metadata": {
  "kernelspec": {
   "display_name": "Python 3 (ipykernel)",
   "language": "python",
   "name": "python3"
  },
  "language_info": {
   "codemirror_mode": {
    "name": "ipython",
    "version": 3
   },
   "file_extension": ".py",
   "mimetype": "text/x-python",
   "name": "python",
   "nbconvert_exporter": "python",
   "pygments_lexer": "ipython3",
   "version": "3.10.9"
  }
 },
 "nbformat": 4,
 "nbformat_minor": 5
}
